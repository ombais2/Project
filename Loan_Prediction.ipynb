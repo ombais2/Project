{
  "nbformat": 4,
  "nbformat_minor": 0,
  "metadata": {
    "colab": {
      "name": "Loan_Prediction.ipynb",
      "provenance": [],
      "collapsed_sections": []
    },
    "kernelspec": {
      "name": "python3",
      "display_name": "Python 3"
    },
    "language_info": {
      "name": "python"
    },
    "accelerator": "TPU"
  },
  "cells": [
    {
      "cell_type": "markdown",
      "metadata": {
        "id": "oapmLUXcQaeg"
      },
      "source": [
        "  **The aim of this notebook is to predict which customers will have their loan approved**\n",
        "\n",
        "\n",
        "\n",
        "\n",
        "![loan.png](data:image/png;base64,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)"
      ]
    },
    {
      "cell_type": "code",
      "metadata": {
        "id": "rsJCPh9rRes-"
      },
      "source": [
        "import os #paths to file\n",
        "import numpy as np # linear algebra\n",
        "import pandas as pd # data processing\n",
        "import warnings  # warning filter\n",
        "\n",
        "#ploting libraries\n",
        "import matplotlib.pyplot as plt \n",
        "import seaborn as sns\n",
        "\n",
        "#ML libraries\n",
        "from sklearn.preprocessing import LabelEncoder\n",
        "from sklearn.model_selection import train_test_split\n",
        "from sklearn.metrics import confusion_matrix\n",
        "from sklearn.metrics import classification_report\n",
        "from sklearn.metrics import accuracy_score, f1_score\n",
        "\n",
        "#ML models\n",
        "from xgboost import XGBClassifier\n",
        "from sklearn.tree import DecisionTreeClassifier\n",
        "from sklearn.ensemble import RandomForestClassifier\n",
        "from sklearn.linear_model import LogisticRegression\n",
        "\n",
        "\n",
        "warnings.filterwarnings(\"ignore\")"
      ],
      "execution_count": 319,
      "outputs": []
    },
    {
      "cell_type": "code",
      "metadata": {
        "id": "7N4ExiKgRuou"
      },
      "source": [
        "train = pd.read_csv('train.csv')\n",
        "test = pd.read_csv('test.csv')"
      ],
      "execution_count": 320,
      "outputs": []
    },
    {
      "cell_type": "code",
      "metadata": {
        "colab": {
          "base_uri": "https://localhost:8080/"
        },
        "id": "9MI-m-zyRbak",
        "outputId": "b4592572-c716-4a5a-b349-9bd88c0a9b80"
      },
      "source": [
        "print(train.shape) \n",
        "print(test.shape)"
      ],
      "execution_count": 321,
      "outputs": [
        {
          "output_type": "stream",
          "text": [
            "(614, 13)\n",
            "(367, 12)\n"
          ],
          "name": "stdout"
        }
      ]
    },
    {
      "cell_type": "markdown",
      "metadata": {
        "id": "OyAZGClvSp5Q"
      },
      "source": [
        "data.shape means we have 614 rows and 13 columns"
      ]
    },
    {
      "cell_type": "code",
      "metadata": {
        "colab": {
          "base_uri": "https://localhost:8080/",
          "height": 236
        },
        "id": "Yx9cq8YORC4d",
        "outputId": "1d1be95d-8ca3-47b7-e530-ed88d1923178"
      },
      "source": [
        "train.head()"
      ],
      "execution_count": 322,
      "outputs": [
        {
          "output_type": "execute_result",
          "data": {
            "text/html": [
              "<div>\n",
              "<style scoped>\n",
              "    .dataframe tbody tr th:only-of-type {\n",
              "        vertical-align: middle;\n",
              "    }\n",
              "\n",
              "    .dataframe tbody tr th {\n",
              "        vertical-align: top;\n",
              "    }\n",
              "\n",
              "    .dataframe thead th {\n",
              "        text-align: right;\n",
              "    }\n",
              "</style>\n",
              "<table border=\"1\" class=\"dataframe\">\n",
              "  <thead>\n",
              "    <tr style=\"text-align: right;\">\n",
              "      <th></th>\n",
              "      <th>Loan_ID</th>\n",
              "      <th>Gender</th>\n",
              "      <th>Married</th>\n",
              "      <th>Dependents</th>\n",
              "      <th>Education</th>\n",
              "      <th>Self_Employed</th>\n",
              "      <th>ApplicantIncome</th>\n",
              "      <th>CoapplicantIncome</th>\n",
              "      <th>LoanAmount</th>\n",
              "      <th>Loan_Amount_Term</th>\n",
              "      <th>Credit_History</th>\n",
              "      <th>Property_Area</th>\n",
              "      <th>Loan_Status</th>\n",
              "    </tr>\n",
              "  </thead>\n",
              "  <tbody>\n",
              "    <tr>\n",
              "      <th>0</th>\n",
              "      <td>LP001002</td>\n",
              "      <td>Male</td>\n",
              "      <td>No</td>\n",
              "      <td>0</td>\n",
              "      <td>Graduate</td>\n",
              "      <td>No</td>\n",
              "      <td>5849</td>\n",
              "      <td>0.0</td>\n",
              "      <td>NaN</td>\n",
              "      <td>360.0</td>\n",
              "      <td>1.0</td>\n",
              "      <td>Urban</td>\n",
              "      <td>Y</td>\n",
              "    </tr>\n",
              "    <tr>\n",
              "      <th>1</th>\n",
              "      <td>LP001003</td>\n",
              "      <td>Male</td>\n",
              "      <td>Yes</td>\n",
              "      <td>1</td>\n",
              "      <td>Graduate</td>\n",
              "      <td>No</td>\n",
              "      <td>4583</td>\n",
              "      <td>1508.0</td>\n",
              "      <td>128.0</td>\n",
              "      <td>360.0</td>\n",
              "      <td>1.0</td>\n",
              "      <td>Rural</td>\n",
              "      <td>N</td>\n",
              "    </tr>\n",
              "    <tr>\n",
              "      <th>2</th>\n",
              "      <td>LP001005</td>\n",
              "      <td>Male</td>\n",
              "      <td>Yes</td>\n",
              "      <td>0</td>\n",
              "      <td>Graduate</td>\n",
              "      <td>Yes</td>\n",
              "      <td>3000</td>\n",
              "      <td>0.0</td>\n",
              "      <td>66.0</td>\n",
              "      <td>360.0</td>\n",
              "      <td>1.0</td>\n",
              "      <td>Urban</td>\n",
              "      <td>Y</td>\n",
              "    </tr>\n",
              "    <tr>\n",
              "      <th>3</th>\n",
              "      <td>LP001006</td>\n",
              "      <td>Male</td>\n",
              "      <td>Yes</td>\n",
              "      <td>0</td>\n",
              "      <td>Not Graduate</td>\n",
              "      <td>No</td>\n",
              "      <td>2583</td>\n",
              "      <td>2358.0</td>\n",
              "      <td>120.0</td>\n",
              "      <td>360.0</td>\n",
              "      <td>1.0</td>\n",
              "      <td>Urban</td>\n",
              "      <td>Y</td>\n",
              "    </tr>\n",
              "    <tr>\n",
              "      <th>4</th>\n",
              "      <td>LP001008</td>\n",
              "      <td>Male</td>\n",
              "      <td>No</td>\n",
              "      <td>0</td>\n",
              "      <td>Graduate</td>\n",
              "      <td>No</td>\n",
              "      <td>6000</td>\n",
              "      <td>0.0</td>\n",
              "      <td>141.0</td>\n",
              "      <td>360.0</td>\n",
              "      <td>1.0</td>\n",
              "      <td>Urban</td>\n",
              "      <td>Y</td>\n",
              "    </tr>\n",
              "  </tbody>\n",
              "</table>\n",
              "</div>"
            ],
            "text/plain": [
              "    Loan_ID Gender Married  ... Credit_History Property_Area Loan_Status\n",
              "0  LP001002   Male      No  ...            1.0         Urban           Y\n",
              "1  LP001003   Male     Yes  ...            1.0         Rural           N\n",
              "2  LP001005   Male     Yes  ...            1.0         Urban           Y\n",
              "3  LP001006   Male     Yes  ...            1.0         Urban           Y\n",
              "4  LP001008   Male      No  ...            1.0         Urban           Y\n",
              "\n",
              "[5 rows x 13 columns]"
            ]
          },
          "metadata": {
            "tags": []
          },
          "execution_count": 322
        }
      ]
    },
    {
      "cell_type": "markdown",
      "metadata": {
        "id": "BRBJZFzeS3DR"
      },
      "source": [
        "head() used to view first specific rows of data by default it is 5\n",
        "\n",
        "we can use data.head(10)"
      ]
    },
    {
      "cell_type": "code",
      "metadata": {
        "colab": {
          "base_uri": "https://localhost:8080/",
          "height": 290
        },
        "id": "6ZyGsHASQ8kB",
        "outputId": "0053435a-4e4b-4079-f96a-6cc093dbe681"
      },
      "source": [
        "train.describe()"
      ],
      "execution_count": 323,
      "outputs": [
        {
          "output_type": "execute_result",
          "data": {
            "text/html": [
              "<div>\n",
              "<style scoped>\n",
              "    .dataframe tbody tr th:only-of-type {\n",
              "        vertical-align: middle;\n",
              "    }\n",
              "\n",
              "    .dataframe tbody tr th {\n",
              "        vertical-align: top;\n",
              "    }\n",
              "\n",
              "    .dataframe thead th {\n",
              "        text-align: right;\n",
              "    }\n",
              "</style>\n",
              "<table border=\"1\" class=\"dataframe\">\n",
              "  <thead>\n",
              "    <tr style=\"text-align: right;\">\n",
              "      <th></th>\n",
              "      <th>ApplicantIncome</th>\n",
              "      <th>CoapplicantIncome</th>\n",
              "      <th>LoanAmount</th>\n",
              "      <th>Loan_Amount_Term</th>\n",
              "      <th>Credit_History</th>\n",
              "    </tr>\n",
              "  </thead>\n",
              "  <tbody>\n",
              "    <tr>\n",
              "      <th>count</th>\n",
              "      <td>614.000000</td>\n",
              "      <td>614.000000</td>\n",
              "      <td>592.000000</td>\n",
              "      <td>600.00000</td>\n",
              "      <td>564.000000</td>\n",
              "    </tr>\n",
              "    <tr>\n",
              "      <th>mean</th>\n",
              "      <td>5403.459283</td>\n",
              "      <td>1621.245798</td>\n",
              "      <td>146.412162</td>\n",
              "      <td>342.00000</td>\n",
              "      <td>0.842199</td>\n",
              "    </tr>\n",
              "    <tr>\n",
              "      <th>std</th>\n",
              "      <td>6109.041673</td>\n",
              "      <td>2926.248369</td>\n",
              "      <td>85.587325</td>\n",
              "      <td>65.12041</td>\n",
              "      <td>0.364878</td>\n",
              "    </tr>\n",
              "    <tr>\n",
              "      <th>min</th>\n",
              "      <td>150.000000</td>\n",
              "      <td>0.000000</td>\n",
              "      <td>9.000000</td>\n",
              "      <td>12.00000</td>\n",
              "      <td>0.000000</td>\n",
              "    </tr>\n",
              "    <tr>\n",
              "      <th>25%</th>\n",
              "      <td>2877.500000</td>\n",
              "      <td>0.000000</td>\n",
              "      <td>100.000000</td>\n",
              "      <td>360.00000</td>\n",
              "      <td>1.000000</td>\n",
              "    </tr>\n",
              "    <tr>\n",
              "      <th>50%</th>\n",
              "      <td>3812.500000</td>\n",
              "      <td>1188.500000</td>\n",
              "      <td>128.000000</td>\n",
              "      <td>360.00000</td>\n",
              "      <td>1.000000</td>\n",
              "    </tr>\n",
              "    <tr>\n",
              "      <th>75%</th>\n",
              "      <td>5795.000000</td>\n",
              "      <td>2297.250000</td>\n",
              "      <td>168.000000</td>\n",
              "      <td>360.00000</td>\n",
              "      <td>1.000000</td>\n",
              "    </tr>\n",
              "    <tr>\n",
              "      <th>max</th>\n",
              "      <td>81000.000000</td>\n",
              "      <td>41667.000000</td>\n",
              "      <td>700.000000</td>\n",
              "      <td>480.00000</td>\n",
              "      <td>1.000000</td>\n",
              "    </tr>\n",
              "  </tbody>\n",
              "</table>\n",
              "</div>"
            ],
            "text/plain": [
              "       ApplicantIncome  CoapplicantIncome  ...  Loan_Amount_Term  Credit_History\n",
              "count       614.000000         614.000000  ...         600.00000      564.000000\n",
              "mean       5403.459283        1621.245798  ...         342.00000        0.842199\n",
              "std        6109.041673        2926.248369  ...          65.12041        0.364878\n",
              "min         150.000000           0.000000  ...          12.00000        0.000000\n",
              "25%        2877.500000           0.000000  ...         360.00000        1.000000\n",
              "50%        3812.500000        1188.500000  ...         360.00000        1.000000\n",
              "75%        5795.000000        2297.250000  ...         360.00000        1.000000\n",
              "max       81000.000000       41667.000000  ...         480.00000        1.000000\n",
              "\n",
              "[8 rows x 5 columns]"
            ]
          },
          "metadata": {
            "tags": []
          },
          "execution_count": 323
        }
      ]
    },
    {
      "cell_type": "markdown",
      "metadata": {
        "id": "5ON4g_74TKv4"
      },
      "source": [
        "**describe()** is used to view some basic statistical details like percentile, mean, std etc. of a data frame or a series of numeric values"
      ]
    },
    {
      "cell_type": "code",
      "metadata": {
        "colab": {
          "base_uri": "https://localhost:8080/"
        },
        "id": "CWAOF3AwQuUL",
        "outputId": "3fb6e8bd-3550-42c8-b1a5-680eb84eb4fb"
      },
      "source": [
        "train.info()"
      ],
      "execution_count": 324,
      "outputs": [
        {
          "output_type": "stream",
          "text": [
            "<class 'pandas.core.frame.DataFrame'>\n",
            "RangeIndex: 614 entries, 0 to 613\n",
            "Data columns (total 13 columns):\n",
            " #   Column             Non-Null Count  Dtype  \n",
            "---  ------             --------------  -----  \n",
            " 0   Loan_ID            614 non-null    object \n",
            " 1   Gender             601 non-null    object \n",
            " 2   Married            611 non-null    object \n",
            " 3   Dependents         599 non-null    object \n",
            " 4   Education          614 non-null    object \n",
            " 5   Self_Employed      582 non-null    object \n",
            " 6   ApplicantIncome    614 non-null    int64  \n",
            " 7   CoapplicantIncome  614 non-null    float64\n",
            " 8   LoanAmount         592 non-null    float64\n",
            " 9   Loan_Amount_Term   600 non-null    float64\n",
            " 10  Credit_History     564 non-null    float64\n",
            " 11  Property_Area      614 non-null    object \n",
            " 12  Loan_Status        614 non-null    object \n",
            "dtypes: float64(4), int64(1), object(8)\n",
            "memory usage: 62.5+ KB\n"
          ],
          "name": "stdout"
        }
      ]
    },
    {
      "cell_type": "markdown",
      "metadata": {
        "id": "x_hKCIOTUoO6"
      },
      "source": [
        " **info()** used to print a summary of a DataFrame. This prints index dtype and column dtypes, non-null values and memory usage."
      ]
    },
    {
      "cell_type": "markdown",
      "metadata": {
        "id": "yuUkcAd6yGI6"
      },
      "source": [
        "# Preprocessing"
      ]
    },
    {
      "cell_type": "markdown",
      "metadata": {
        "id": "XKj5kLXzvJeE"
      },
      "source": [
        "   ---- In our data, We have 2 columns ApplicantIncome & CoapplicantIncome we can add them and name as **TotalIncome** "
      ]
    },
    {
      "cell_type": "code",
      "metadata": {
        "id": "UpwcmBUKt-OT",
        "colab": {
          "base_uri": "https://localhost:8080/",
          "height": 540
        },
        "outputId": "3eee4007-e48d-4618-bc4b-7a9dc74c25b8"
      },
      "source": [
        "train['TotalIncome'] = train['ApplicantIncome'] + train['CoapplicantIncome']\n",
        "test['TotalIncome'] = test['ApplicantIncome'] + test['CoapplicantIncome']"
      ],
      "execution_count": 505,
      "outputs": [
        {
          "output_type": "error",
          "ename": "KeyError",
          "evalue": "ignored",
          "traceback": [
            "\u001b[0;31m---------------------------------------------------------------------------\u001b[0m",
            "\u001b[0;31mKeyError\u001b[0m                                  Traceback (most recent call last)",
            "\u001b[0;32m/usr/local/lib/python3.7/dist-packages/pandas/core/indexes/base.py\u001b[0m in \u001b[0;36mget_loc\u001b[0;34m(self, key, method, tolerance)\u001b[0m\n\u001b[1;32m   2897\u001b[0m             \u001b[0;32mtry\u001b[0m\u001b[0;34m:\u001b[0m\u001b[0;34m\u001b[0m\u001b[0;34m\u001b[0m\u001b[0m\n\u001b[0;32m-> 2898\u001b[0;31m                 \u001b[0;32mreturn\u001b[0m \u001b[0mself\u001b[0m\u001b[0;34m.\u001b[0m\u001b[0m_engine\u001b[0m\u001b[0;34m.\u001b[0m\u001b[0mget_loc\u001b[0m\u001b[0;34m(\u001b[0m\u001b[0mcasted_key\u001b[0m\u001b[0;34m)\u001b[0m\u001b[0;34m\u001b[0m\u001b[0;34m\u001b[0m\u001b[0m\n\u001b[0m\u001b[1;32m   2899\u001b[0m             \u001b[0;32mexcept\u001b[0m \u001b[0mKeyError\u001b[0m \u001b[0;32mas\u001b[0m \u001b[0merr\u001b[0m\u001b[0;34m:\u001b[0m\u001b[0;34m\u001b[0m\u001b[0;34m\u001b[0m\u001b[0m\n",
            "\u001b[0;32mpandas/_libs/index.pyx\u001b[0m in \u001b[0;36mpandas._libs.index.IndexEngine.get_loc\u001b[0;34m()\u001b[0m\n",
            "\u001b[0;32mpandas/_libs/index.pyx\u001b[0m in \u001b[0;36mpandas._libs.index.IndexEngine.get_loc\u001b[0;34m()\u001b[0m\n",
            "\u001b[0;32mpandas/_libs/hashtable_class_helper.pxi\u001b[0m in \u001b[0;36mpandas._libs.hashtable.PyObjectHashTable.get_item\u001b[0;34m()\u001b[0m\n",
            "\u001b[0;32mpandas/_libs/hashtable_class_helper.pxi\u001b[0m in \u001b[0;36mpandas._libs.hashtable.PyObjectHashTable.get_item\u001b[0;34m()\u001b[0m\n",
            "\u001b[0;31mKeyError\u001b[0m: 'ApplicantIncome'",
            "\nThe above exception was the direct cause of the following exception:\n",
            "\u001b[0;31mKeyError\u001b[0m                                  Traceback (most recent call last)",
            "\u001b[0;32m<ipython-input-505-a4ef0a35acdc>\u001b[0m in \u001b[0;36m<module>\u001b[0;34m()\u001b[0m\n\u001b[0;32m----> 1\u001b[0;31m \u001b[0mtrain\u001b[0m\u001b[0;34m[\u001b[0m\u001b[0;34m'TotalIncome'\u001b[0m\u001b[0;34m]\u001b[0m \u001b[0;34m=\u001b[0m \u001b[0mtrain\u001b[0m\u001b[0;34m[\u001b[0m\u001b[0;34m'ApplicantIncome'\u001b[0m\u001b[0;34m]\u001b[0m \u001b[0;34m+\u001b[0m \u001b[0mtrain\u001b[0m\u001b[0;34m[\u001b[0m\u001b[0;34m'CoapplicantIncome'\u001b[0m\u001b[0;34m]\u001b[0m\u001b[0;34m\u001b[0m\u001b[0;34m\u001b[0m\u001b[0m\n\u001b[0m\u001b[1;32m      2\u001b[0m \u001b[0mtest\u001b[0m\u001b[0;34m[\u001b[0m\u001b[0;34m'TotalIncome'\u001b[0m\u001b[0;34m]\u001b[0m \u001b[0;34m=\u001b[0m \u001b[0mtest\u001b[0m\u001b[0;34m[\u001b[0m\u001b[0;34m'ApplicantIncome'\u001b[0m\u001b[0;34m]\u001b[0m \u001b[0;34m+\u001b[0m \u001b[0mtest\u001b[0m\u001b[0;34m[\u001b[0m\u001b[0;34m'CoapplicantIncome'\u001b[0m\u001b[0;34m]\u001b[0m\u001b[0;34m\u001b[0m\u001b[0;34m\u001b[0m\u001b[0m\n",
            "\u001b[0;32m/usr/local/lib/python3.7/dist-packages/pandas/core/frame.py\u001b[0m in \u001b[0;36m__getitem__\u001b[0;34m(self, key)\u001b[0m\n\u001b[1;32m   2904\u001b[0m             \u001b[0;32mif\u001b[0m \u001b[0mself\u001b[0m\u001b[0;34m.\u001b[0m\u001b[0mcolumns\u001b[0m\u001b[0;34m.\u001b[0m\u001b[0mnlevels\u001b[0m \u001b[0;34m>\u001b[0m \u001b[0;36m1\u001b[0m\u001b[0;34m:\u001b[0m\u001b[0;34m\u001b[0m\u001b[0;34m\u001b[0m\u001b[0m\n\u001b[1;32m   2905\u001b[0m                 \u001b[0;32mreturn\u001b[0m \u001b[0mself\u001b[0m\u001b[0;34m.\u001b[0m\u001b[0m_getitem_multilevel\u001b[0m\u001b[0;34m(\u001b[0m\u001b[0mkey\u001b[0m\u001b[0;34m)\u001b[0m\u001b[0;34m\u001b[0m\u001b[0;34m\u001b[0m\u001b[0m\n\u001b[0;32m-> 2906\u001b[0;31m             \u001b[0mindexer\u001b[0m \u001b[0;34m=\u001b[0m \u001b[0mself\u001b[0m\u001b[0;34m.\u001b[0m\u001b[0mcolumns\u001b[0m\u001b[0;34m.\u001b[0m\u001b[0mget_loc\u001b[0m\u001b[0;34m(\u001b[0m\u001b[0mkey\u001b[0m\u001b[0;34m)\u001b[0m\u001b[0;34m\u001b[0m\u001b[0;34m\u001b[0m\u001b[0m\n\u001b[0m\u001b[1;32m   2907\u001b[0m             \u001b[0;32mif\u001b[0m \u001b[0mis_integer\u001b[0m\u001b[0;34m(\u001b[0m\u001b[0mindexer\u001b[0m\u001b[0;34m)\u001b[0m\u001b[0;34m:\u001b[0m\u001b[0;34m\u001b[0m\u001b[0;34m\u001b[0m\u001b[0m\n\u001b[1;32m   2908\u001b[0m                 \u001b[0mindexer\u001b[0m \u001b[0;34m=\u001b[0m \u001b[0;34m[\u001b[0m\u001b[0mindexer\u001b[0m\u001b[0;34m]\u001b[0m\u001b[0;34m\u001b[0m\u001b[0;34m\u001b[0m\u001b[0m\n",
            "\u001b[0;32m/usr/local/lib/python3.7/dist-packages/pandas/core/indexes/base.py\u001b[0m in \u001b[0;36mget_loc\u001b[0;34m(self, key, method, tolerance)\u001b[0m\n\u001b[1;32m   2898\u001b[0m                 \u001b[0;32mreturn\u001b[0m \u001b[0mself\u001b[0m\u001b[0;34m.\u001b[0m\u001b[0m_engine\u001b[0m\u001b[0;34m.\u001b[0m\u001b[0mget_loc\u001b[0m\u001b[0;34m(\u001b[0m\u001b[0mcasted_key\u001b[0m\u001b[0;34m)\u001b[0m\u001b[0;34m\u001b[0m\u001b[0;34m\u001b[0m\u001b[0m\n\u001b[1;32m   2899\u001b[0m             \u001b[0;32mexcept\u001b[0m \u001b[0mKeyError\u001b[0m \u001b[0;32mas\u001b[0m \u001b[0merr\u001b[0m\u001b[0;34m:\u001b[0m\u001b[0;34m\u001b[0m\u001b[0;34m\u001b[0m\u001b[0m\n\u001b[0;32m-> 2900\u001b[0;31m                 \u001b[0;32mraise\u001b[0m \u001b[0mKeyError\u001b[0m\u001b[0;34m(\u001b[0m\u001b[0mkey\u001b[0m\u001b[0;34m)\u001b[0m \u001b[0;32mfrom\u001b[0m \u001b[0merr\u001b[0m\u001b[0;34m\u001b[0m\u001b[0;34m\u001b[0m\u001b[0m\n\u001b[0m\u001b[1;32m   2901\u001b[0m \u001b[0;34m\u001b[0m\u001b[0m\n\u001b[1;32m   2902\u001b[0m         \u001b[0;32mif\u001b[0m \u001b[0mtolerance\u001b[0m \u001b[0;32mis\u001b[0m \u001b[0;32mnot\u001b[0m \u001b[0;32mNone\u001b[0m\u001b[0;34m:\u001b[0m\u001b[0;34m\u001b[0m\u001b[0;34m\u001b[0m\u001b[0m\n",
            "\u001b[0;31mKeyError\u001b[0m: 'ApplicantIncome'"
          ]
        }
      ]
    },
    {
      "cell_type": "markdown",
      "metadata": {
        "id": "btwUk2cmxTzM"
      },
      "source": [
        "We will drop the previous 2 columns that is  ApplicantIncome &  CoapplicantIncom for permanent thats why used inplace=True"
      ]
    },
    {
      "cell_type": "code",
      "metadata": {
        "id": "9YkjXEq6v5ko",
        "colab": {
          "base_uri": "https://localhost:8080/",
          "height": 312
        },
        "outputId": "31d670a9-0333-4c09-ba61-9d330e4e1227"
      },
      "source": [
        "train.drop(['ApplicantIncome','CoapplicantIncome'],inplace=True,axis=1)\n",
        "test.drop(['ApplicantIncome','CoapplicantIncome'],inplace=True,axis=1)"
      ],
      "execution_count": 506,
      "outputs": [
        {
          "output_type": "error",
          "ename": "KeyError",
          "evalue": "ignored",
          "traceback": [
            "\u001b[0;31m---------------------------------------------------------------------------\u001b[0m",
            "\u001b[0;31mKeyError\u001b[0m                                  Traceback (most recent call last)",
            "\u001b[0;32m<ipython-input-506-d9aeb23a65b6>\u001b[0m in \u001b[0;36m<module>\u001b[0;34m()\u001b[0m\n\u001b[0;32m----> 1\u001b[0;31m \u001b[0mtrain\u001b[0m\u001b[0;34m.\u001b[0m\u001b[0mdrop\u001b[0m\u001b[0;34m(\u001b[0m\u001b[0;34m[\u001b[0m\u001b[0;34m'ApplicantIncome'\u001b[0m\u001b[0;34m,\u001b[0m\u001b[0;34m'CoapplicantIncome'\u001b[0m\u001b[0;34m]\u001b[0m\u001b[0;34m,\u001b[0m\u001b[0minplace\u001b[0m\u001b[0;34m=\u001b[0m\u001b[0;32mTrue\u001b[0m\u001b[0;34m,\u001b[0m\u001b[0maxis\u001b[0m\u001b[0;34m=\u001b[0m\u001b[0;36m1\u001b[0m\u001b[0;34m)\u001b[0m\u001b[0;34m\u001b[0m\u001b[0;34m\u001b[0m\u001b[0m\n\u001b[0m\u001b[1;32m      2\u001b[0m \u001b[0mtest\u001b[0m\u001b[0;34m.\u001b[0m\u001b[0mdrop\u001b[0m\u001b[0;34m(\u001b[0m\u001b[0;34m[\u001b[0m\u001b[0;34m'ApplicantIncome'\u001b[0m\u001b[0;34m,\u001b[0m\u001b[0;34m'CoapplicantIncome'\u001b[0m\u001b[0;34m]\u001b[0m\u001b[0;34m,\u001b[0m\u001b[0minplace\u001b[0m\u001b[0;34m=\u001b[0m\u001b[0;32mTrue\u001b[0m\u001b[0;34m,\u001b[0m\u001b[0maxis\u001b[0m\u001b[0;34m=\u001b[0m\u001b[0;36m1\u001b[0m\u001b[0;34m)\u001b[0m\u001b[0;34m\u001b[0m\u001b[0;34m\u001b[0m\u001b[0m\n",
            "\u001b[0;32m/usr/local/lib/python3.7/dist-packages/pandas/core/frame.py\u001b[0m in \u001b[0;36mdrop\u001b[0;34m(self, labels, axis, index, columns, level, inplace, errors)\u001b[0m\n\u001b[1;32m   4172\u001b[0m             \u001b[0mlevel\u001b[0m\u001b[0;34m=\u001b[0m\u001b[0mlevel\u001b[0m\u001b[0;34m,\u001b[0m\u001b[0;34m\u001b[0m\u001b[0;34m\u001b[0m\u001b[0m\n\u001b[1;32m   4173\u001b[0m             \u001b[0minplace\u001b[0m\u001b[0;34m=\u001b[0m\u001b[0minplace\u001b[0m\u001b[0;34m,\u001b[0m\u001b[0;34m\u001b[0m\u001b[0;34m\u001b[0m\u001b[0m\n\u001b[0;32m-> 4174\u001b[0;31m             \u001b[0merrors\u001b[0m\u001b[0;34m=\u001b[0m\u001b[0merrors\u001b[0m\u001b[0;34m,\u001b[0m\u001b[0;34m\u001b[0m\u001b[0;34m\u001b[0m\u001b[0m\n\u001b[0m\u001b[1;32m   4175\u001b[0m         )\n\u001b[1;32m   4176\u001b[0m \u001b[0;34m\u001b[0m\u001b[0m\n",
            "\u001b[0;32m/usr/local/lib/python3.7/dist-packages/pandas/core/generic.py\u001b[0m in \u001b[0;36mdrop\u001b[0;34m(self, labels, axis, index, columns, level, inplace, errors)\u001b[0m\n\u001b[1;32m   3887\u001b[0m         \u001b[0;32mfor\u001b[0m \u001b[0maxis\u001b[0m\u001b[0;34m,\u001b[0m \u001b[0mlabels\u001b[0m \u001b[0;32min\u001b[0m \u001b[0maxes\u001b[0m\u001b[0;34m.\u001b[0m\u001b[0mitems\u001b[0m\u001b[0;34m(\u001b[0m\u001b[0;34m)\u001b[0m\u001b[0;34m:\u001b[0m\u001b[0;34m\u001b[0m\u001b[0;34m\u001b[0m\u001b[0m\n\u001b[1;32m   3888\u001b[0m             \u001b[0;32mif\u001b[0m \u001b[0mlabels\u001b[0m \u001b[0;32mis\u001b[0m \u001b[0;32mnot\u001b[0m \u001b[0;32mNone\u001b[0m\u001b[0;34m:\u001b[0m\u001b[0;34m\u001b[0m\u001b[0;34m\u001b[0m\u001b[0m\n\u001b[0;32m-> 3889\u001b[0;31m                 \u001b[0mobj\u001b[0m \u001b[0;34m=\u001b[0m \u001b[0mobj\u001b[0m\u001b[0;34m.\u001b[0m\u001b[0m_drop_axis\u001b[0m\u001b[0;34m(\u001b[0m\u001b[0mlabels\u001b[0m\u001b[0;34m,\u001b[0m \u001b[0maxis\u001b[0m\u001b[0;34m,\u001b[0m \u001b[0mlevel\u001b[0m\u001b[0;34m=\u001b[0m\u001b[0mlevel\u001b[0m\u001b[0;34m,\u001b[0m \u001b[0merrors\u001b[0m\u001b[0;34m=\u001b[0m\u001b[0merrors\u001b[0m\u001b[0;34m)\u001b[0m\u001b[0;34m\u001b[0m\u001b[0;34m\u001b[0m\u001b[0m\n\u001b[0m\u001b[1;32m   3890\u001b[0m \u001b[0;34m\u001b[0m\u001b[0m\n\u001b[1;32m   3891\u001b[0m         \u001b[0;32mif\u001b[0m \u001b[0minplace\u001b[0m\u001b[0;34m:\u001b[0m\u001b[0;34m\u001b[0m\u001b[0;34m\u001b[0m\u001b[0m\n",
            "\u001b[0;32m/usr/local/lib/python3.7/dist-packages/pandas/core/generic.py\u001b[0m in \u001b[0;36m_drop_axis\u001b[0;34m(self, labels, axis, level, errors)\u001b[0m\n\u001b[1;32m   3921\u001b[0m                 \u001b[0mnew_axis\u001b[0m \u001b[0;34m=\u001b[0m \u001b[0maxis\u001b[0m\u001b[0;34m.\u001b[0m\u001b[0mdrop\u001b[0m\u001b[0;34m(\u001b[0m\u001b[0mlabels\u001b[0m\u001b[0;34m,\u001b[0m \u001b[0mlevel\u001b[0m\u001b[0;34m=\u001b[0m\u001b[0mlevel\u001b[0m\u001b[0;34m,\u001b[0m \u001b[0merrors\u001b[0m\u001b[0;34m=\u001b[0m\u001b[0merrors\u001b[0m\u001b[0;34m)\u001b[0m\u001b[0;34m\u001b[0m\u001b[0;34m\u001b[0m\u001b[0m\n\u001b[1;32m   3922\u001b[0m             \u001b[0;32melse\u001b[0m\u001b[0;34m:\u001b[0m\u001b[0;34m\u001b[0m\u001b[0;34m\u001b[0m\u001b[0m\n\u001b[0;32m-> 3923\u001b[0;31m                 \u001b[0mnew_axis\u001b[0m \u001b[0;34m=\u001b[0m \u001b[0maxis\u001b[0m\u001b[0;34m.\u001b[0m\u001b[0mdrop\u001b[0m\u001b[0;34m(\u001b[0m\u001b[0mlabels\u001b[0m\u001b[0;34m,\u001b[0m \u001b[0merrors\u001b[0m\u001b[0;34m=\u001b[0m\u001b[0merrors\u001b[0m\u001b[0;34m)\u001b[0m\u001b[0;34m\u001b[0m\u001b[0;34m\u001b[0m\u001b[0m\n\u001b[0m\u001b[1;32m   3924\u001b[0m             \u001b[0mresult\u001b[0m \u001b[0;34m=\u001b[0m \u001b[0mself\u001b[0m\u001b[0;34m.\u001b[0m\u001b[0mreindex\u001b[0m\u001b[0;34m(\u001b[0m\u001b[0;34m**\u001b[0m\u001b[0;34m{\u001b[0m\u001b[0maxis_name\u001b[0m\u001b[0;34m:\u001b[0m \u001b[0mnew_axis\u001b[0m\u001b[0;34m}\u001b[0m\u001b[0;34m)\u001b[0m\u001b[0;34m\u001b[0m\u001b[0;34m\u001b[0m\u001b[0m\n\u001b[1;32m   3925\u001b[0m \u001b[0;34m\u001b[0m\u001b[0m\n",
            "\u001b[0;32m/usr/local/lib/python3.7/dist-packages/pandas/core/indexes/base.py\u001b[0m in \u001b[0;36mdrop\u001b[0;34m(self, labels, errors)\u001b[0m\n\u001b[1;32m   5285\u001b[0m         \u001b[0;32mif\u001b[0m \u001b[0mmask\u001b[0m\u001b[0;34m.\u001b[0m\u001b[0many\u001b[0m\u001b[0;34m(\u001b[0m\u001b[0;34m)\u001b[0m\u001b[0;34m:\u001b[0m\u001b[0;34m\u001b[0m\u001b[0;34m\u001b[0m\u001b[0m\n\u001b[1;32m   5286\u001b[0m             \u001b[0;32mif\u001b[0m \u001b[0merrors\u001b[0m \u001b[0;34m!=\u001b[0m \u001b[0;34m\"ignore\"\u001b[0m\u001b[0;34m:\u001b[0m\u001b[0;34m\u001b[0m\u001b[0;34m\u001b[0m\u001b[0m\n\u001b[0;32m-> 5287\u001b[0;31m                 \u001b[0;32mraise\u001b[0m \u001b[0mKeyError\u001b[0m\u001b[0;34m(\u001b[0m\u001b[0;34mf\"{labels[mask]} not found in axis\"\u001b[0m\u001b[0;34m)\u001b[0m\u001b[0;34m\u001b[0m\u001b[0;34m\u001b[0m\u001b[0m\n\u001b[0m\u001b[1;32m   5288\u001b[0m             \u001b[0mindexer\u001b[0m \u001b[0;34m=\u001b[0m \u001b[0mindexer\u001b[0m\u001b[0;34m[\u001b[0m\u001b[0;34m~\u001b[0m\u001b[0mmask\u001b[0m\u001b[0;34m]\u001b[0m\u001b[0;34m\u001b[0m\u001b[0;34m\u001b[0m\u001b[0m\n\u001b[1;32m   5289\u001b[0m         \u001b[0;32mreturn\u001b[0m \u001b[0mself\u001b[0m\u001b[0;34m.\u001b[0m\u001b[0mdelete\u001b[0m\u001b[0;34m(\u001b[0m\u001b[0mindexer\u001b[0m\u001b[0;34m)\u001b[0m\u001b[0;34m\u001b[0m\u001b[0;34m\u001b[0m\u001b[0m\n",
            "\u001b[0;31mKeyError\u001b[0m: \"['ApplicantIncome' 'CoapplicantIncome'] not found in axis\""
          ]
        }
      ]
    },
    {
      "cell_type": "code",
      "metadata": {
        "id": "66d3-6syuWAL"
      },
      "source": [
        "train.info()"
      ],
      "execution_count": null,
      "outputs": []
    },
    {
      "cell_type": "code",
      "metadata": {
        "id": "a1GjKpUVuomi"
      },
      "source": [
        "train.head()"
      ],
      "execution_count": null,
      "outputs": []
    },
    {
      "cell_type": "markdown",
      "metadata": {
        "id": "d-juZqhTyWag"
      },
      "source": [
        "There is no need of Loan_ID, It will confuse our model se we will drop it"
      ]
    },
    {
      "cell_type": "code",
      "metadata": {
        "id": "48AghSfPy_zJ"
      },
      "source": [
        "train.drop('Loan_ID',inplace=True,axis=1)\n",
        "test.drop('Loan_ID',inplace=True,axis=1)"
      ],
      "execution_count": null,
      "outputs": []
    },
    {
      "cell_type": "code",
      "metadata": {
        "id": "hcdG7jjny0FU"
      },
      "source": [
        "train.head()"
      ],
      "execution_count": null,
      "outputs": []
    },
    {
      "cell_type": "markdown",
      "metadata": {
        "id": "yhaIOS6w0mJs"
      },
      "source": [
        "**Handling Missing Values**"
      ]
    },
    {
      "cell_type": "code",
      "metadata": {
        "id": "wR0DB_-Zzy7E"
      },
      "source": [
        "# isna() & isnull() Both are same don't get confuse\n",
        "\n",
        "train.isnull().sum() # or train.isna().sum()"
      ],
      "execution_count": null,
      "outputs": []
    },
    {
      "cell_type": "code",
      "metadata": {
        "id": "VPmu-f8509E4"
      },
      "source": [
        "# Used sort_values() for just ascending purpose \n",
        "train.isnull().sum().sort_values(ascending=False)"
      ],
      "execution_count": null,
      "outputs": []
    },
    {
      "cell_type": "markdown",
      "metadata": {
        "id": "9Zmy4-FS_sDI"
      },
      "source": [
        "**Dealing with null Values**\n",
        "\n",
        "For Categorical Variable & for binary varibale we use mode() , which replace most frequent value in that columns we use [0] for to get just most frequnt value "
      ]
    },
    {
      "cell_type": "code",
      "metadata": {
        "id": "NIwWUp2K2CpI"
      },
      "source": [
        "\n",
        "# Dealing with training data\n",
        "\n",
        "train.fillna({\n",
        "    'Credit_History': train.Credit_History.mode()[0],\n",
        "    'Self_Employed': train.Dependents.mode()[0],\n",
        "    'LoanAmount': train.LoanAmount.median(),\n",
        "    'Dependents': train.Dependents.mode()[0],\n",
        "    'Loan_Amount_Term': train.Loan_Amount_Term.mode()[0],\n",
        "    'Gender': train.Gender.mode()[0],\n",
        "    'Married': train.Married.mode()[0]\n",
        "}, inplace=True)"
      ],
      "execution_count": null,
      "outputs": []
    },
    {
      "cell_type": "code",
      "metadata": {
        "id": "EAg9HaDLB7Bk"
      },
      "source": [
        "\n",
        "# Dealing with testing data\n",
        "\n",
        "test.fillna({\n",
        "    'Credit_History': test.Credit_History.mode()[0],\n",
        "    'Self_Employed': test.Dependents.mode()[0],\n",
        "    'LoanAmount': test.LoanAmount.median(),\n",
        "    'Dependents': test.Dependents.mode()[0],\n",
        "    'Loan_Amount_Term': test.Loan_Amount_Term.mode()[0],\n",
        "    'Gender': test.Gender.mode()[0],\n",
        "    'Married': test.Married.mode()[0]\n",
        "}, inplace=True)"
      ],
      "execution_count": null,
      "outputs": []
    },
    {
      "cell_type": "code",
      "metadata": {
        "id": "H0exz7RN5T-3"
      },
      "source": [
        "# isna() & isnull() Both are same don't get confuse\n",
        "\n",
        "train.isnull().sum() # or train.isna().sum()"
      ],
      "execution_count": null,
      "outputs": []
    },
    {
      "cell_type": "markdown",
      "metadata": {
        "id": "pme1VsZJClko"
      },
      "source": [
        "# Data Visvualization(EDA)"
      ]
    },
    {
      "cell_type": "code",
      "metadata": {
        "colab": {
          "base_uri": "https://localhost:8080/",
          "height": 296
        },
        "id": "pcKG-cpxFJ6R",
        "outputId": "20a16365-5367-40b0-93af-cab1350edc66"
      },
      "source": [
        "# Visualizing how  many yes and no present in data\n",
        "\n",
        "\n",
        "sns.countplot(train['Loan_Status']) # or sns.countplot('Loan_Status',data=train)"
      ],
      "execution_count": 335,
      "outputs": [
        {
          "output_type": "execute_result",
          "data": {
            "text/plain": [
              "<matplotlib.axes._subplots.AxesSubplot at 0x7fa50d30f710>"
            ]
          },
          "metadata": {
            "tags": []
          },
          "execution_count": 335
        },
        {
          "output_type": "display_data",
          "data": {
            "image/png": "[encoded data removed]",
            "text/plain": [
              "<Figure size 432x288 with 1 Axes>"
            ]
          },
          "metadata": {
            "tags": [],
            "needs_background": "light"
          }
        }
      ]
    },
    {
      "cell_type": "code",
      "metadata": {
        "colab": {
          "base_uri": "https://localhost:8080/",
          "height": 295
        },
        "id": "aygPuXj_Kz-T",
        "outputId": "209a2c64-ea87-4a0b-942c-5a0b3defc3e7"
      },
      "source": [
        "\n",
        "# Visualizing how many are married one in data\n",
        "\n",
        "sns.countplot(train['Married'])"
      ],
      "execution_count": 336,
      "outputs": [
        {
          "output_type": "execute_result",
          "data": {
            "text/plain": [
              "<matplotlib.axes._subplots.AxesSubplot at 0x7fa50d1d9450>"
            ]
          },
          "metadata": {
            "tags": []
          },
          "execution_count": 336
        },
        {
          "output_type": "display_data",
          "data": {
            "image/png": "[encoded data removed]",
            "text/plain": [
              "<Figure size 432x288 with 1 Axes>"
            ]
          },
          "metadata": {
            "tags": [],
            "needs_background": "light"
          }
        }
      ]
    },
    {
      "cell_type": "code",
      "metadata": {
        "colab": {
          "base_uri": "https://localhost:8080/",
          "height": 296
        },
        "id": "2z6qCyTcOh47",
        "outputId": "fd5f2b31-abee-40e4-a9dd-6aefa9438181"
      },
      "source": [
        "\n",
        "# Visualizing how many people get loan who are Male & Female in data\n",
        "\n",
        "sns.countplot('Loan_Status',data=train,hue='Gender')"
      ],
      "execution_count": 337,
      "outputs": [
        {
          "output_type": "execute_result",
          "data": {
            "text/plain": [
              "<matplotlib.axes._subplots.AxesSubplot at 0x7fa50d1b9750>"
            ]
          },
          "metadata": {
            "tags": []
          },
          "execution_count": 337
        },
        {
          "output_type": "display_data",
          "data": {
            "image/png": "[encoded data removed]",
            "text/plain": [
              "<Figure size 432x288 with 1 Axes>"
            ]
          },
          "metadata": {
            "tags": [],
            "needs_background": "light"
          }
        }
      ]
    },
    {
      "cell_type": "code",
      "metadata": {
        "colab": {
          "base_uri": "https://localhost:8080/",
          "height": 298
        },
        "id": "hc8Hq7jlJFUp",
        "outputId": "b271af48-fc0f-46a1-c9a3-8b3d490780aa"
      },
      "source": [
        "\n",
        "# Visualizing how many people get loan who are married in data\n",
        "\n",
        "sns.countplot('Loan_Status',data=train,hue='Married')"
      ],
      "execution_count": 338,
      "outputs": [
        {
          "output_type": "execute_result",
          "data": {
            "text/plain": [
              "<matplotlib.axes._subplots.AxesSubplot at 0x7fa50d128190>"
            ]
          },
          "metadata": {
            "tags": []
          },
          "execution_count": 338
        },
        {
          "output_type": "display_data",
          "data": {
            "image/png": "[encoded data removed]",
            "text/plain": [
              "<Figure size 432x288 with 1 Axes>"
            ]
          },
          "metadata": {
            "tags": [],
            "needs_background": "light"
          }
        }
      ]
    },
    {
      "cell_type": "code",
      "metadata": {
        "colab": {
          "base_uri": "https://localhost:8080/",
          "height": 296
        },
        "id": "Uz8lt5cJGBxf",
        "outputId": "8bdc187d-7b9b-49f7-cd9f-34211e54bf59"
      },
      "source": [
        "# Visualizing how many people get loan who are married in data\n",
        "\n",
        "sns.countplot('Self_Employed',data=train,hue='Married')"
      ],
      "execution_count": 339,
      "outputs": [
        {
          "output_type": "execute_result",
          "data": {
            "text/plain": [
              "<matplotlib.axes._subplots.AxesSubplot at 0x7fa50d177190>"
            ]
          },
          "metadata": {
            "tags": []
          },
          "execution_count": 339
        },
        {
          "output_type": "display_data",
          "data": {
            "image/png": "[encoded data removed]",
            "text/plain": [
              "<Figure size 432x288 with 1 Axes>"
            ]
          },
          "metadata": {
            "tags": [],
            "needs_background": "light"
          }
        }
      ]
    },
    {
      "cell_type": "code",
      "metadata": {
        "id": "9I72Wc02Rk1m"
      },
      "source": [
        "# we have 0 value in the categorical variable[Self_Employed] we will replace 0 by 'No'\n",
        "\n",
        "train['Self_Employed'].replace('0','No',inplace=True)"
      ],
      "execution_count": null,
      "outputs": []
    },
    {
      "cell_type": "code",
      "metadata": {
        "colab": {
          "base_uri": "https://localhost:8080/",
          "height": 296
        },
        "id": "knoYFGYsSWY_",
        "outputId": "734000ee-3038-4abd-b764-1d0c0202bba0"
      },
      "source": [
        "\n",
        "# Now again visualize after replacing 0 with No\n",
        "\n",
        "# Visualizing how many people get loan who are married in data\n",
        "\n",
        "sns.countplot('Self_Employed',data=train)"
      ],
      "execution_count": 340,
      "outputs": [
        {
          "output_type": "execute_result",
          "data": {
            "text/plain": [
              "<matplotlib.axes._subplots.AxesSubplot at 0x7fa50d072cd0>"
            ]
          },
          "metadata": {
            "tags": []
          },
          "execution_count": 340
        },
        {
          "output_type": "display_data",
          "data": {
            "image/png": "[encoded data removed]",
            "text/plain": [
              "<Figure size 432x288 with 1 Axes>"
            ]
          },
          "metadata": {
            "tags": [],
            "needs_background": "light"
          }
        }
      ]
    },
    {
      "cell_type": "code",
      "metadata": {
        "colab": {
          "base_uri": "https://localhost:8080/",
          "height": 295
        },
        "id": "CSG3vazPTQIM",
        "outputId": "432eb2b0-d1bd-43d0-9b57-b19f178a61b3"
      },
      "source": [
        "\n",
        "# Visualizing how many people get loan on the basis of depenecies(Family memeber) in data\n",
        "\n",
        "sns.countplot('Dependents',data=train,hue='Loan_Status')"
      ],
      "execution_count": 341,
      "outputs": [
        {
          "output_type": "execute_result",
          "data": {
            "text/plain": [
              "<matplotlib.axes._subplots.AxesSubplot at 0x7fa50cfe8f10>"
            ]
          },
          "metadata": {
            "tags": []
          },
          "execution_count": 341
        },
        {
          "output_type": "display_data",
          "data": {
            "image/png": "[encoded data removed]",
            "text/plain": [
              "<Figure size 432x288 with 1 Axes>"
            ]
          },
          "metadata": {
            "tags": [],
            "needs_background": "light"
          }
        }
      ]
    },
    {
      "cell_type": "code",
      "metadata": {
        "colab": {
          "base_uri": "https://localhost:8080/",
          "height": 295
        },
        "id": "KIPdNmQ5VAY0",
        "outputId": "81c1b761-1884-41f7-9174-7b75c5d7a914"
      },
      "source": [
        "# Visualizing how many people get loan on the basis of their Education in data\n",
        "\n",
        "sns.countplot('Education',data=train,hue='Loan_Status')"
      ],
      "execution_count": 342,
      "outputs": [
        {
          "output_type": "execute_result",
          "data": {
            "text/plain": [
              "<matplotlib.axes._subplots.AxesSubplot at 0x7fa50cf43b90>"
            ]
          },
          "metadata": {
            "tags": []
          },
          "execution_count": 342
        },
        {
          "output_type": "display_data",
          "data": {
            "image/png": "[encoded data removed]",
            "text/plain": [
              "<Figure size 432x288 with 1 Axes>"
            ]
          },
          "metadata": {
            "tags": [],
            "needs_background": "light"
          }
        }
      ]
    },
    {
      "cell_type": "code",
      "metadata": {
        "colab": {
          "base_uri": "https://localhost:8080/",
          "height": 296
        },
        "id": "H8p4FvbmVvRn",
        "outputId": "d7ac1cfa-ef4e-4b38-d47c-dbbbe3976bf8"
      },
      "source": [
        "# Visualizing how many people get loan on the basis of their Living Area in data\n",
        "\n",
        "sns.countplot('Property_Area',data=train,hue='Loan_Status')"
      ],
      "execution_count": 343,
      "outputs": [
        {
          "output_type": "execute_result",
          "data": {
            "text/plain": [
              "<matplotlib.axes._subplots.AxesSubplot at 0x7fa50d30fa50>"
            ]
          },
          "metadata": {
            "tags": []
          },
          "execution_count": 343
        },
        {
          "output_type": "display_data",
          "data": {
            "image/png": "[encoded data removed]",
            "text/plain": [
              "<Figure size 432x288 with 1 Axes>"
            ]
          },
          "metadata": {
            "tags": [],
            "needs_background": "light"
          }
        }
      ]
    },
    {
      "cell_type": "code",
      "metadata": {
        "colab": {
          "base_uri": "https://localhost:8080/",
          "height": 296
        },
        "id": "uP_Vmm9ZkN99",
        "outputId": "cc17cb75-c97e-4b26-9b4d-3f36e356c60a"
      },
      "source": [
        "# plotting data on the basis of Credit_History\n",
        "sns.countplot('Credit_History',data=train,hue='Loan_Status')"
      ],
      "execution_count": 344,
      "outputs": [
        {
          "output_type": "execute_result",
          "data": {
            "text/plain": [
              "<matplotlib.axes._subplots.AxesSubplot at 0x7fa50ce45310>"
            ]
          },
          "metadata": {
            "tags": []
          },
          "execution_count": 344
        },
        {
          "output_type": "display_data",
          "data": {
            "image/png": "[encoded data removed]",
            "text/plain": [
              "<Figure size 432x288 with 1 Axes>"
            ]
          },
          "metadata": {
            "tags": [],
            "needs_background": "light"
          }
        }
      ]
    },
    {
      "cell_type": "code",
      "metadata": {
        "colab": {
          "base_uri": "https://localhost:8080/"
        },
        "id": "OQbRsigcp2W9",
        "outputId": "0a55a21f-17d7-460d-b464-638ef6740ee5"
      },
      "source": [
        "train.columns"
      ],
      "execution_count": 345,
      "outputs": [
        {
          "output_type": "execute_result",
          "data": {
            "text/plain": [
              "Index(['Gender', 'Married', 'Dependents', 'Education', 'Self_Employed',\n",
              "       'LoanAmount', 'Loan_Amount_Term', 'Credit_History', 'Property_Area',\n",
              "       'Loan_Status', 'TotalIncome'],\n",
              "      dtype='object')"
            ]
          },
          "metadata": {
            "tags": []
          },
          "execution_count": 345
        }
      ]
    },
    {
      "cell_type": "code",
      "metadata": {
        "id": "HDH9huK5qq_R",
        "colab": {
          "base_uri": "https://localhost:8080/",
          "height": 653
        },
        "outputId": "9edeb7ed-682b-4b14-9d5c-a98a49eff32e"
      },
      "source": [
        "train.head(20)"
      ],
      "execution_count": 346,
      "outputs": [
        {
          "output_type": "execute_result",
          "data": {
            "text/html": [
              "<div>\n",
              "<style scoped>\n",
              "    .dataframe tbody tr th:only-of-type {\n",
              "        vertical-align: middle;\n",
              "    }\n",
              "\n",
              "    .dataframe tbody tr th {\n",
              "        vertical-align: top;\n",
              "    }\n",
              "\n",
              "    .dataframe thead th {\n",
              "        text-align: right;\n",
              "    }\n",
              "</style>\n",
              "<table border=\"1\" class=\"dataframe\">\n",
              "  <thead>\n",
              "    <tr style=\"text-align: right;\">\n",
              "      <th></th>\n",
              "      <th>Gender</th>\n",
              "      <th>Married</th>\n",
              "      <th>Dependents</th>\n",
              "      <th>Education</th>\n",
              "      <th>Self_Employed</th>\n",
              "      <th>LoanAmount</th>\n",
              "      <th>Loan_Amount_Term</th>\n",
              "      <th>Credit_History</th>\n",
              "      <th>Property_Area</th>\n",
              "      <th>Loan_Status</th>\n",
              "      <th>TotalIncome</th>\n",
              "    </tr>\n",
              "  </thead>\n",
              "  <tbody>\n",
              "    <tr>\n",
              "      <th>0</th>\n",
              "      <td>Male</td>\n",
              "      <td>No</td>\n",
              "      <td>0</td>\n",
              "      <td>Graduate</td>\n",
              "      <td>No</td>\n",
              "      <td>128.0</td>\n",
              "      <td>360.0</td>\n",
              "      <td>1.0</td>\n",
              "      <td>Urban</td>\n",
              "      <td>Y</td>\n",
              "      <td>5849.0</td>\n",
              "    </tr>\n",
              "    <tr>\n",
              "      <th>1</th>\n",
              "      <td>Male</td>\n",
              "      <td>Yes</td>\n",
              "      <td>1</td>\n",
              "      <td>Graduate</td>\n",
              "      <td>No</td>\n",
              "      <td>128.0</td>\n",
              "      <td>360.0</td>\n",
              "      <td>1.0</td>\n",
              "      <td>Rural</td>\n",
              "      <td>N</td>\n",
              "      <td>6091.0</td>\n",
              "    </tr>\n",
              "    <tr>\n",
              "      <th>2</th>\n",
              "      <td>Male</td>\n",
              "      <td>Yes</td>\n",
              "      <td>0</td>\n",
              "      <td>Graduate</td>\n",
              "      <td>Yes</td>\n",
              "      <td>66.0</td>\n",
              "      <td>360.0</td>\n",
              "      <td>1.0</td>\n",
              "      <td>Urban</td>\n",
              "      <td>Y</td>\n",
              "      <td>3000.0</td>\n",
              "    </tr>\n",
              "    <tr>\n",
              "      <th>3</th>\n",
              "      <td>Male</td>\n",
              "      <td>Yes</td>\n",
              "      <td>0</td>\n",
              "      <td>Not Graduate</td>\n",
              "      <td>No</td>\n",
              "      <td>120.0</td>\n",
              "      <td>360.0</td>\n",
              "      <td>1.0</td>\n",
              "      <td>Urban</td>\n",
              "      <td>Y</td>\n",
              "      <td>4941.0</td>\n",
              "    </tr>\n",
              "    <tr>\n",
              "      <th>4</th>\n",
              "      <td>Male</td>\n",
              "      <td>No</td>\n",
              "      <td>0</td>\n",
              "      <td>Graduate</td>\n",
              "      <td>No</td>\n",
              "      <td>141.0</td>\n",
              "      <td>360.0</td>\n",
              "      <td>1.0</td>\n",
              "      <td>Urban</td>\n",
              "      <td>Y</td>\n",
              "      <td>6000.0</td>\n",
              "    </tr>\n",
              "    <tr>\n",
              "      <th>5</th>\n",
              "      <td>Male</td>\n",
              "      <td>Yes</td>\n",
              "      <td>2</td>\n",
              "      <td>Graduate</td>\n",
              "      <td>Yes</td>\n",
              "      <td>267.0</td>\n",
              "      <td>360.0</td>\n",
              "      <td>1.0</td>\n",
              "      <td>Urban</td>\n",
              "      <td>Y</td>\n",
              "      <td>9613.0</td>\n",
              "    </tr>\n",
              "    <tr>\n",
              "      <th>6</th>\n",
              "      <td>Male</td>\n",
              "      <td>Yes</td>\n",
              "      <td>0</td>\n",
              "      <td>Not Graduate</td>\n",
              "      <td>No</td>\n",
              "      <td>95.0</td>\n",
              "      <td>360.0</td>\n",
              "      <td>1.0</td>\n",
              "      <td>Urban</td>\n",
              "      <td>Y</td>\n",
              "      <td>3849.0</td>\n",
              "    </tr>\n",
              "    <tr>\n",
              "      <th>7</th>\n",
              "      <td>Male</td>\n",
              "      <td>Yes</td>\n",
              "      <td>3+</td>\n",
              "      <td>Graduate</td>\n",
              "      <td>No</td>\n",
              "      <td>158.0</td>\n",
              "      <td>360.0</td>\n",
              "      <td>0.0</td>\n",
              "      <td>Semiurban</td>\n",
              "      <td>N</td>\n",
              "      <td>5540.0</td>\n",
              "    </tr>\n",
              "    <tr>\n",
              "      <th>8</th>\n",
              "      <td>Male</td>\n",
              "      <td>Yes</td>\n",
              "      <td>2</td>\n",
              "      <td>Graduate</td>\n",
              "      <td>No</td>\n",
              "      <td>168.0</td>\n",
              "      <td>360.0</td>\n",
              "      <td>1.0</td>\n",
              "      <td>Urban</td>\n",
              "      <td>Y</td>\n",
              "      <td>5532.0</td>\n",
              "    </tr>\n",
              "    <tr>\n",
              "      <th>9</th>\n",
              "      <td>Male</td>\n",
              "      <td>Yes</td>\n",
              "      <td>1</td>\n",
              "      <td>Graduate</td>\n",
              "      <td>No</td>\n",
              "      <td>349.0</td>\n",
              "      <td>360.0</td>\n",
              "      <td>1.0</td>\n",
              "      <td>Semiurban</td>\n",
              "      <td>N</td>\n",
              "      <td>23809.0</td>\n",
              "    </tr>\n",
              "    <tr>\n",
              "      <th>10</th>\n",
              "      <td>Male</td>\n",
              "      <td>Yes</td>\n",
              "      <td>2</td>\n",
              "      <td>Graduate</td>\n",
              "      <td>No</td>\n",
              "      <td>70.0</td>\n",
              "      <td>360.0</td>\n",
              "      <td>1.0</td>\n",
              "      <td>Urban</td>\n",
              "      <td>Y</td>\n",
              "      <td>3900.0</td>\n",
              "    </tr>\n",
              "    <tr>\n",
              "      <th>11</th>\n",
              "      <td>Male</td>\n",
              "      <td>Yes</td>\n",
              "      <td>2</td>\n",
              "      <td>Graduate</td>\n",
              "      <td>0</td>\n",
              "      <td>109.0</td>\n",
              "      <td>360.0</td>\n",
              "      <td>1.0</td>\n",
              "      <td>Urban</td>\n",
              "      <td>Y</td>\n",
              "      <td>4340.0</td>\n",
              "    </tr>\n",
              "    <tr>\n",
              "      <th>12</th>\n",
              "      <td>Male</td>\n",
              "      <td>Yes</td>\n",
              "      <td>2</td>\n",
              "      <td>Graduate</td>\n",
              "      <td>No</td>\n",
              "      <td>200.0</td>\n",
              "      <td>360.0</td>\n",
              "      <td>1.0</td>\n",
              "      <td>Urban</td>\n",
              "      <td>Y</td>\n",
              "      <td>11179.0</td>\n",
              "    </tr>\n",
              "    <tr>\n",
              "      <th>13</th>\n",
              "      <td>Male</td>\n",
              "      <td>No</td>\n",
              "      <td>0</td>\n",
              "      <td>Graduate</td>\n",
              "      <td>No</td>\n",
              "      <td>114.0</td>\n",
              "      <td>360.0</td>\n",
              "      <td>1.0</td>\n",
              "      <td>Rural</td>\n",
              "      <td>N</td>\n",
              "      <td>4693.0</td>\n",
              "    </tr>\n",
              "    <tr>\n",
              "      <th>14</th>\n",
              "      <td>Male</td>\n",
              "      <td>Yes</td>\n",
              "      <td>2</td>\n",
              "      <td>Graduate</td>\n",
              "      <td>No</td>\n",
              "      <td>17.0</td>\n",
              "      <td>120.0</td>\n",
              "      <td>1.0</td>\n",
              "      <td>Urban</td>\n",
              "      <td>Y</td>\n",
              "      <td>2385.0</td>\n",
              "    </tr>\n",
              "    <tr>\n",
              "      <th>15</th>\n",
              "      <td>Male</td>\n",
              "      <td>No</td>\n",
              "      <td>0</td>\n",
              "      <td>Graduate</td>\n",
              "      <td>No</td>\n",
              "      <td>125.0</td>\n",
              "      <td>360.0</td>\n",
              "      <td>1.0</td>\n",
              "      <td>Urban</td>\n",
              "      <td>Y</td>\n",
              "      <td>4950.0</td>\n",
              "    </tr>\n",
              "    <tr>\n",
              "      <th>16</th>\n",
              "      <td>Male</td>\n",
              "      <td>No</td>\n",
              "      <td>1</td>\n",
              "      <td>Not Graduate</td>\n",
              "      <td>No</td>\n",
              "      <td>100.0</td>\n",
              "      <td>240.0</td>\n",
              "      <td>1.0</td>\n",
              "      <td>Urban</td>\n",
              "      <td>Y</td>\n",
              "      <td>3596.0</td>\n",
              "    </tr>\n",
              "    <tr>\n",
              "      <th>17</th>\n",
              "      <td>Female</td>\n",
              "      <td>No</td>\n",
              "      <td>0</td>\n",
              "      <td>Graduate</td>\n",
              "      <td>No</td>\n",
              "      <td>76.0</td>\n",
              "      <td>360.0</td>\n",
              "      <td>0.0</td>\n",
              "      <td>Urban</td>\n",
              "      <td>N</td>\n",
              "      <td>3510.0</td>\n",
              "    </tr>\n",
              "    <tr>\n",
              "      <th>18</th>\n",
              "      <td>Male</td>\n",
              "      <td>Yes</td>\n",
              "      <td>0</td>\n",
              "      <td>Not Graduate</td>\n",
              "      <td>No</td>\n",
              "      <td>133.0</td>\n",
              "      <td>360.0</td>\n",
              "      <td>1.0</td>\n",
              "      <td>Rural</td>\n",
              "      <td>N</td>\n",
              "      <td>4887.0</td>\n",
              "    </tr>\n",
              "    <tr>\n",
              "      <th>19</th>\n",
              "      <td>Male</td>\n",
              "      <td>Yes</td>\n",
              "      <td>0</td>\n",
              "      <td>Graduate</td>\n",
              "      <td>0</td>\n",
              "      <td>115.0</td>\n",
              "      <td>360.0</td>\n",
              "      <td>1.0</td>\n",
              "      <td>Urban</td>\n",
              "      <td>Y</td>\n",
              "      <td>6100.0</td>\n",
              "    </tr>\n",
              "  </tbody>\n",
              "</table>\n",
              "</div>"
            ],
            "text/plain": [
              "    Gender Married Dependents  ... Property_Area Loan_Status  TotalIncome\n",
              "0     Male      No          0  ...         Urban           Y       5849.0\n",
              "1     Male     Yes          1  ...         Rural           N       6091.0\n",
              "2     Male     Yes          0  ...         Urban           Y       3000.0\n",
              "3     Male     Yes          0  ...         Urban           Y       4941.0\n",
              "4     Male      No          0  ...         Urban           Y       6000.0\n",
              "5     Male     Yes          2  ...         Urban           Y       9613.0\n",
              "6     Male     Yes          0  ...         Urban           Y       3849.0\n",
              "7     Male     Yes         3+  ...     Semiurban           N       5540.0\n",
              "8     Male     Yes          2  ...         Urban           Y       5532.0\n",
              "9     Male     Yes          1  ...     Semiurban           N      23809.0\n",
              "10    Male     Yes          2  ...         Urban           Y       3900.0\n",
              "11    Male     Yes          2  ...         Urban           Y       4340.0\n",
              "12    Male     Yes          2  ...         Urban           Y      11179.0\n",
              "13    Male      No          0  ...         Rural           N       4693.0\n",
              "14    Male     Yes          2  ...         Urban           Y       2385.0\n",
              "15    Male      No          0  ...         Urban           Y       4950.0\n",
              "16    Male      No          1  ...         Urban           Y       3596.0\n",
              "17  Female      No          0  ...         Urban           N       3510.0\n",
              "18    Male     Yes          0  ...         Rural           N       4887.0\n",
              "19    Male     Yes          0  ...         Urban           Y       6100.0\n",
              "\n",
              "[20 rows x 11 columns]"
            ]
          },
          "metadata": {
            "tags": []
          },
          "execution_count": 346
        }
      ]
    },
    {
      "cell_type": "markdown",
      "metadata": {
        "id": "5jffgkR5sJe9"
      },
      "source": [
        "**Encoding Categorical Data**"
      ]
    },
    {
      "cell_type": "code",
      "metadata": {
        "id": "VDyse8lQsMwy"
      },
      "source": [
        "from sklearn.preprocessing import LabelEncoder\n",
        "\n",
        "\n",
        "# Encoding Gender\n",
        "\n",
        "gender_le = LabelEncoder()\n",
        "train['Gender'] = gender_le.fit_transform(train['Gender'])\n",
        "\n",
        "# Encoding Married\n",
        "\n",
        "married_le = LabelEncoder()\n",
        "train['Married'] = married_le.fit_transform(train['Married'])\n",
        "\n"
      ],
      "execution_count": 347,
      "outputs": []
    },
    {
      "cell_type": "code",
      "metadata": {
        "colab": {
          "base_uri": "https://localhost:8080/"
        },
        "id": "Om2FhGqftHxz",
        "outputId": "a70308bf-651a-456a-a6f0-78f2370fe5ad"
      },
      "source": [
        "train['Dependents'].unique()"
      ],
      "execution_count": 266,
      "outputs": [
        {
          "output_type": "execute_result",
          "data": {
            "text/plain": [
              "array(['0', '1', '2', '3+'], dtype=object)"
            ]
          },
          "metadata": {
            "tags": []
          },
          "execution_count": 266
        }
      ]
    },
    {
      "cell_type": "markdown",
      "metadata": {
        "id": "DB3jICdGv6Jx"
      },
      "source": [
        "The Dependents colums having 4 value that is 0,1,2,3+\n",
        "we we replace 3+ with 3\n",
        "\n"
      ]
    },
    {
      "cell_type": "code",
      "metadata": {
        "id": "IfbunBj0vn7a"
      },
      "source": [
        "train['Dependents'].replace('3+','3',inplace=True)"
      ],
      "execution_count": 348,
      "outputs": []
    },
    {
      "cell_type": "code",
      "metadata": {
        "colab": {
          "base_uri": "https://localhost:8080/"
        },
        "id": "XuNjY2ZRwLWk",
        "outputId": "3bf42819-4073-47e1-ab1a-9d760c182727"
      },
      "source": [
        "train['Dependents'].unique()"
      ],
      "execution_count": 349,
      "outputs": [
        {
          "output_type": "execute_result",
          "data": {
            "text/plain": [
              "array(['0', '1', '2', '3'], dtype=object)"
            ]
          },
          "metadata": {
            "tags": []
          },
          "execution_count": 349
        }
      ]
    },
    {
      "cell_type": "markdown",
      "metadata": {
        "id": "r5RkVR62wQ47"
      },
      "source": [
        "Here in **Dependents** column we have more then 2 unique value so we are going to encode it using OneHotEncoding to avoid dependecies problem which will may occur by LabelEncoder"
      ]
    },
    {
      "cell_type": "code",
      "metadata": {
        "id": "PpKCnvTywox2"
      },
      "source": [
        "\n",
        "# Encoding Dependents\n",
        "\n",
        "from sklearn.preprocessing import OneHotEncoder \n",
        "from sklearn.compose import ColumnTransformer\n",
        "columnTransformer = ColumnTransformer([('encoder', OneHotEncoder(), [3])],remainder='passthrough') \n",
        "X=np.array(columnTransformer.fit_transform(train),dtype=np.str)\n"
      ],
      "execution_count": 350,
      "outputs": []
    },
    {
      "cell_type": "code",
      "metadata": {
        "id": "OVxNi7e11CI6"
      },
      "source": [
        "\n",
        "# Encoding Education\n",
        "\n",
        "education_le = LabelEncoder()\n",
        "train['Education'] = education_le.fit_transform(train['Education'])\n"
      ],
      "execution_count": 351,
      "outputs": []
    },
    {
      "cell_type": "code",
      "metadata": {
        "id": "W0Sw01e41ac9"
      },
      "source": [
        "\n",
        "# Encoding Self_Employed\n",
        "\n",
        "self_employed_le = LabelEncoder()\n",
        "train['Self_Employed'] = self_employed_le.fit_transform(train['Self_Employed'])\n"
      ],
      "execution_count": 352,
      "outputs": []
    },
    {
      "cell_type": "code",
      "metadata": {
        "id": "POg8uJxP1tIz"
      },
      "source": [
        "\n",
        "# Encoding Property_Area\n",
        "\n",
        "property_area_le = LabelEncoder()\n",
        "train['Property_Area'] = property_area_le.fit_transform(train['Property_Area'])\n"
      ],
      "execution_count": 353,
      "outputs": []
    },
    {
      "cell_type": "code",
      "metadata": {
        "id": "IzVho1Bh189q"
      },
      "source": [
        "\n",
        "# Encoding Loan_Status\t\n",
        "\n",
        "loan_status_le = LabelEncoder()\n",
        "train['Loan_Status'] = loan_status_le.fit_transform(train['Loan_Status'])\n"
      ],
      "execution_count": 354,
      "outputs": []
    },
    {
      "cell_type": "code",
      "metadata": {
        "colab": {
          "base_uri": "https://localhost:8080/"
        },
        "id": "aWyqMbDJ3NqR",
        "outputId": "20ffe8d0-8946-4bd1-95dc-6509caf9ec2c"
      },
      "source": [
        "train['Credit_History'].unique()"
      ],
      "execution_count": 423,
      "outputs": [
        {
          "output_type": "execute_result",
          "data": {
            "text/plain": [
              "array([1., 0.])"
            ]
          },
          "metadata": {
            "tags": []
          },
          "execution_count": 423
        }
      ]
    },
    {
      "cell_type": "markdown",
      "metadata": {
        "id": "Mxkfjphc451n"
      },
      "source": [
        "# **Model Development**"
      ]
    },
    {
      "cell_type": "code",
      "metadata": {
        "id": "CZp9KLTZ4ZmB"
      },
      "source": [
        "X = train.drop('Loan_Status',axis=1)\n",
        "y = train['Loan_Status']"
      ],
      "execution_count": 473,
      "outputs": []
    },
    {
      "cell_type": "code",
      "metadata": {
        "colab": {
          "base_uri": "https://localhost:8080/",
          "height": 408
        },
        "id": "gE9xbhWAFZcX",
        "outputId": "8e5d077c-638a-4043-91cb-bc097bb92bf4"
      },
      "source": [
        "train"
      ],
      "execution_count": 474,
      "outputs": [
        {
          "output_type": "execute_result",
          "data": {
            "text/html": [
              "<div>\n",
              "<style scoped>\n",
              "    .dataframe tbody tr th:only-of-type {\n",
              "        vertical-align: middle;\n",
              "    }\n",
              "\n",
              "    .dataframe tbody tr th {\n",
              "        vertical-align: top;\n",
              "    }\n",
              "\n",
              "    .dataframe thead th {\n",
              "        text-align: right;\n",
              "    }\n",
              "</style>\n",
              "<table border=\"1\" class=\"dataframe\">\n",
              "  <thead>\n",
              "    <tr style=\"text-align: right;\">\n",
              "      <th></th>\n",
              "      <th>Gender</th>\n",
              "      <th>Married</th>\n",
              "      <th>Dependents</th>\n",
              "      <th>Education</th>\n",
              "      <th>Self_Employed</th>\n",
              "      <th>LoanAmount</th>\n",
              "      <th>Loan_Amount_Term</th>\n",
              "      <th>Credit_History</th>\n",
              "      <th>Property_Area</th>\n",
              "      <th>Loan_Status</th>\n",
              "      <th>TotalIncome</th>\n",
              "    </tr>\n",
              "  </thead>\n",
              "  <tbody>\n",
              "    <tr>\n",
              "      <th>0</th>\n",
              "      <td>1</td>\n",
              "      <td>0</td>\n",
              "      <td>0</td>\n",
              "      <td>0</td>\n",
              "      <td>1</td>\n",
              "      <td>128.0</td>\n",
              "      <td>360.0</td>\n",
              "      <td>1.0</td>\n",
              "      <td>2</td>\n",
              "      <td>1</td>\n",
              "      <td>5849.0</td>\n",
              "    </tr>\n",
              "    <tr>\n",
              "      <th>1</th>\n",
              "      <td>1</td>\n",
              "      <td>1</td>\n",
              "      <td>1</td>\n",
              "      <td>0</td>\n",
              "      <td>1</td>\n",
              "      <td>128.0</td>\n",
              "      <td>360.0</td>\n",
              "      <td>1.0</td>\n",
              "      <td>0</td>\n",
              "      <td>0</td>\n",
              "      <td>6091.0</td>\n",
              "    </tr>\n",
              "    <tr>\n",
              "      <th>2</th>\n",
              "      <td>1</td>\n",
              "      <td>1</td>\n",
              "      <td>0</td>\n",
              "      <td>0</td>\n",
              "      <td>2</td>\n",
              "      <td>66.0</td>\n",
              "      <td>360.0</td>\n",
              "      <td>1.0</td>\n",
              "      <td>2</td>\n",
              "      <td>1</td>\n",
              "      <td>3000.0</td>\n",
              "    </tr>\n",
              "    <tr>\n",
              "      <th>3</th>\n",
              "      <td>1</td>\n",
              "      <td>1</td>\n",
              "      <td>0</td>\n",
              "      <td>1</td>\n",
              "      <td>1</td>\n",
              "      <td>120.0</td>\n",
              "      <td>360.0</td>\n",
              "      <td>1.0</td>\n",
              "      <td>2</td>\n",
              "      <td>1</td>\n",
              "      <td>4941.0</td>\n",
              "    </tr>\n",
              "    <tr>\n",
              "      <th>4</th>\n",
              "      <td>1</td>\n",
              "      <td>0</td>\n",
              "      <td>0</td>\n",
              "      <td>0</td>\n",
              "      <td>1</td>\n",
              "      <td>141.0</td>\n",
              "      <td>360.0</td>\n",
              "      <td>1.0</td>\n",
              "      <td>2</td>\n",
              "      <td>1</td>\n",
              "      <td>6000.0</td>\n",
              "    </tr>\n",
              "    <tr>\n",
              "      <th>...</th>\n",
              "      <td>...</td>\n",
              "      <td>...</td>\n",
              "      <td>...</td>\n",
              "      <td>...</td>\n",
              "      <td>...</td>\n",
              "      <td>...</td>\n",
              "      <td>...</td>\n",
              "      <td>...</td>\n",
              "      <td>...</td>\n",
              "      <td>...</td>\n",
              "      <td>...</td>\n",
              "    </tr>\n",
              "    <tr>\n",
              "      <th>609</th>\n",
              "      <td>0</td>\n",
              "      <td>0</td>\n",
              "      <td>0</td>\n",
              "      <td>0</td>\n",
              "      <td>1</td>\n",
              "      <td>71.0</td>\n",
              "      <td>360.0</td>\n",
              "      <td>1.0</td>\n",
              "      <td>0</td>\n",
              "      <td>1</td>\n",
              "      <td>2900.0</td>\n",
              "    </tr>\n",
              "    <tr>\n",
              "      <th>610</th>\n",
              "      <td>1</td>\n",
              "      <td>1</td>\n",
              "      <td>3</td>\n",
              "      <td>0</td>\n",
              "      <td>1</td>\n",
              "      <td>40.0</td>\n",
              "      <td>180.0</td>\n",
              "      <td>1.0</td>\n",
              "      <td>0</td>\n",
              "      <td>1</td>\n",
              "      <td>4106.0</td>\n",
              "    </tr>\n",
              "    <tr>\n",
              "      <th>611</th>\n",
              "      <td>1</td>\n",
              "      <td>1</td>\n",
              "      <td>1</td>\n",
              "      <td>0</td>\n",
              "      <td>1</td>\n",
              "      <td>253.0</td>\n",
              "      <td>360.0</td>\n",
              "      <td>1.0</td>\n",
              "      <td>2</td>\n",
              "      <td>1</td>\n",
              "      <td>8312.0</td>\n",
              "    </tr>\n",
              "    <tr>\n",
              "      <th>612</th>\n",
              "      <td>1</td>\n",
              "      <td>1</td>\n",
              "      <td>2</td>\n",
              "      <td>0</td>\n",
              "      <td>1</td>\n",
              "      <td>187.0</td>\n",
              "      <td>360.0</td>\n",
              "      <td>1.0</td>\n",
              "      <td>2</td>\n",
              "      <td>1</td>\n",
              "      <td>7583.0</td>\n",
              "    </tr>\n",
              "    <tr>\n",
              "      <th>613</th>\n",
              "      <td>0</td>\n",
              "      <td>0</td>\n",
              "      <td>0</td>\n",
              "      <td>0</td>\n",
              "      <td>2</td>\n",
              "      <td>133.0</td>\n",
              "      <td>360.0</td>\n",
              "      <td>0.0</td>\n",
              "      <td>1</td>\n",
              "      <td>0</td>\n",
              "      <td>4583.0</td>\n",
              "    </tr>\n",
              "  </tbody>\n",
              "</table>\n",
              "<p>614 rows × 11 columns</p>\n",
              "</div>"
            ],
            "text/plain": [
              "     Gender  Married Dependents  ...  Property_Area  Loan_Status  TotalIncome\n",
              "0         1        0          0  ...              2            1       5849.0\n",
              "1         1        1          1  ...              0            0       6091.0\n",
              "2         1        1          0  ...              2            1       3000.0\n",
              "3         1        1          0  ...              2            1       4941.0\n",
              "4         1        0          0  ...              2            1       6000.0\n",
              "..      ...      ...        ...  ...            ...          ...          ...\n",
              "609       0        0          0  ...              0            1       2900.0\n",
              "610       1        1          3  ...              0            1       4106.0\n",
              "611       1        1          1  ...              2            1       8312.0\n",
              "612       1        1          2  ...              2            1       7583.0\n",
              "613       0        0          0  ...              1            0       4583.0\n",
              "\n",
              "[614 rows x 11 columns]"
            ]
          },
          "metadata": {
            "tags": []
          },
          "execution_count": 474
        }
      ]
    },
    {
      "cell_type": "markdown",
      "metadata": {
        "id": "5RYImp665ZT2"
      },
      "source": [
        "**Spliting the dataset**"
      ]
    },
    {
      "cell_type": "code",
      "metadata": {
        "id": "IMFqfucu5QL3"
      },
      "source": [
        "X_train, X_test, y_train, y_test = train_test_split(X, y, test_size=0.2, random_state=1)"
      ],
      "execution_count": 475,
      "outputs": []
    },
    {
      "cell_type": "code",
      "metadata": {
        "colab": {
          "base_uri": "https://localhost:8080/"
        },
        "id": "Mz94FKu9K2Ma",
        "outputId": "cc6b654a-ad03-4166-b171-d3431274d74b"
      },
      "source": [
        "\n",
        "# Logistics Regression Implementation\n",
        "\n",
        "LR = LogisticRegression()\n",
        "LR.fit(X_train, y_train)\n",
        "y_predict_lr = LR.predict(X_test)\n",
        "\n",
        "print('Training Accuracy : ', LR.score(X_train, y_train))\n",
        "print('Test Accuracy : ', accuracy_score(y_test,y_predict_lr)) "
      ],
      "execution_count": 479,
      "outputs": [
        {
          "output_type": "stream",
          "text": [
            "Training Accuracy :  0.8085539714867617\n",
            "Test Accuracy :  0.8048780487804879\n"
          ],
          "name": "stdout"
        }
      ]
    },
    {
      "cell_type": "code",
      "metadata": {
        "colab": {
          "base_uri": "https://localhost:8080/"
        },
        "id": "d4O--W2cCKsF",
        "outputId": "2f8f9b15-cec0-43f3-dbd8-f2fd54f466ae"
      },
      "source": [
        "\n",
        "# Decision tree Implementation\n",
        "\n",
        "DTC = DecisionTreeClassifier()\n",
        "DTC.fit(X_train, y_train)\n",
        "y_pred_dtc = DTC.predict(X_test)\n",
        "\n",
        "print('Training Accuracy : ', DTC.score(X_train, y_train))\n",
        "print('Test Accuracy : ', accuracy_score(y_test,y_pred_dtc)) "
      ],
      "execution_count": 504,
      "outputs": [
        {
          "output_type": "stream",
          "text": [
            "Training Accuracy :  1.0\n",
            "Test Accuracy :  0.7398373983739838\n"
          ],
          "name": "stdout"
        }
      ]
    },
    {
      "cell_type": "code",
      "metadata": {
        "colab": {
          "base_uri": "https://localhost:8080/"
        },
        "id": "B4GQukyI6GH2",
        "outputId": "2746730e-5a3f-4977-df00-d5999b150d55"
      },
      "source": [
        "\n",
        "# Random Forest Implementation\n",
        "\n",
        "\n",
        "rfc = RandomForestClassifier()\n",
        "rfc.fit(X_train, y_train)\n",
        "y_pred_rfc = rfc.predict(X_test)\n",
        "\n",
        "print('Train set score : ', rfc.score(X_train, y_train))\n",
        "print('Test set score : ', accuracy_score(y_test,y_pred_rfc))"
      ],
      "execution_count": 480,
      "outputs": [
        {
          "output_type": "stream",
          "text": [
            "Train set score :  1.0\n",
            "Test set score :  0.7479674796747967\n"
          ],
          "name": "stdout"
        }
      ]
    },
    {
      "cell_type": "code",
      "metadata": {
        "colab": {
          "base_uri": "https://localhost:8080/"
        },
        "id": "gRHngqXr6Ipi",
        "outputId": "06320076-91dd-45fc-f34d-30b55ed01e6d"
      },
      "source": [
        "\n",
        "# Naive Bayes Implementation\n",
        "\n",
        "from sklearn.naive_bayes import GaussianNB\n",
        "gnb = GaussianNB()\n",
        "gnb.fit(X_train, y_train)\n",
        "y_pred1 = gnb.predict(X_test)\n",
        "print('Train set score : ', gnb.score(X_train, y_train))\n",
        "print('Test set score : ', accuracy_score(y_test,y_pred1))"
      ],
      "execution_count": 500,
      "outputs": [
        {
          "output_type": "stream",
          "text": [
            "Train set score :  0.8105906313645621\n",
            "Test set score :  0.7967479674796748\n"
          ],
          "name": "stdout"
        }
      ]
    },
    {
      "cell_type": "markdown",
      "metadata": {
        "id": "CwuH_X58QlX4"
      },
      "source": [
        "# Conclusion "
      ]
    },
    {
      "cell_type": "markdown",
      "metadata": {
        "id": "zg_184jcQxdU"
      },
      "source": [
        "Logistics Regression Algoritham is the best algorithm among all with **80%** Accuracy."
      ]
    }
  ]
}